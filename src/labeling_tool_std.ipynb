{
   "cells": [
      {
         "cell_type": "code",
         "execution_count": null,
         "metadata": {},
         "outputs": [],
         "source": [
            "from utils.pigeon.annotate import annotate\n",
            "import json\n",
            "import pandas as pd\n",
            "from pandas import json_normalize\n",
            "from utils.helper import get_filenames\n",
            "import os\n",
            "import IPython.display as ipd\n",
            "import matplotlib.pyplot as plt\n",
            "import scipy.io.wavfile as wavfile\n",
            "\n",
            "\n",
            "def set_pandas_display_options() -> None:\n",
            "    \"\"\"Set pandas display options.\"\"\"\n",
            "    # Ref: https://stackoverflow.com/a/52432757/\n",
            "    display = pd.options.display\n",
            "\n",
            "    display.max_columns = 1000\n",
            "    display.max_rows = 1000\n",
            "    display.max_colwidth = 199\n",
            "    display.width = 1000\n",
            "    # display.precision = 2  # set as needed\n",
            "\n",
            "set_pandas_display_options()\n",
            "\n",
            "def display_audio(filename):\n",
            "    Fs, aud = wavfile.read(filename)\n",
            "\n",
            "    # Stereo to mono\n",
            "    if len(aud.shape) > 1:\n",
            "        aud = aud[:, 0]\n",
            "    ipd.display(ipd.Audio(filename=filename, autoplay=True))\n",
            "    plt.figure(figsize = (5,2))\n",
            "    #powerSpectrum, frequenciesFound, time, imageAxis = plt.specgram(aud, Fs = Fs)\n",
            "    #plt.show() - REMOVED\n",
            "\n",
            "org_dir = os.getcwd()\n",
            "os.chdir(org_dir)\n",
            "\n",
            "#################################################\n",
            "\n",
            "# Let's define our labels\n",
            "ontology_path = os.path.join(*['ontology-master', 'ontology.json'])\n",
            "f = open(ontology_path)\n",
            "data = json.load(f)\n",
            "df = json_normalize(data)\n",
            "f.close()\n",
            "df = df.set_index(\"id\")\n",
            "\n",
            "# Furthermore we like to add some hand-picked labels\n",
            "chosen_names = ['Human sounds', 'Animal', 'Sounds of things', 'Music', 'Natural sounds']\n",
            "chosen_ids = list(df.index[df['name'].isin(chosen_names)])\n",
            "assert len(chosen_names) == len(chosen_ids), \"Length of chosen names and ids should be the same\"\n",
            "\n",
            "labels = df.drop([\"citation_uri\", \"positive_examples\"], axis = 1)\n",
            "labels = labels.loc[chosen_ids]\n",
            "\n",
            "# Drop specific labels because of reasons\n",
            "labels = labels.drop(labels[labels.name == \"Narration, monologue\"].index)"
         ]
      },
      {
         "cell_type": "code",
         "execution_count": null,
         "metadata": {},
         "outputs": [],
         "source": [
            "labels"
         ]
      },
      {
         "cell_type": "markdown",
         "metadata": {},
         "source": [
            "## Load annotation file"
         ]
      },
      {
         "cell_type": "code",
         "execution_count": null,
         "metadata": {},
         "outputs": [],
         "source": [
            "data_path = os.path.join(org_dir, '../data')\n",
            "csv_path = os.path.join(org_dir, '../data')\n",
            "\n",
            "try: \n",
            "    df = pd.read_csv(csv_path, index_col=0)\n",
            "except:\n",
            "    filenames = get_filenames(data_path)\n",
            "    df = pd.DataFrame(data={'label':len(filenames)*[None], 'certainty':len(filenames)*[None]}, index=filenames)\n",
            "    df.to_csv(csv_path)\n",
            "\n",
            "data_path = os.path.abspath(data_path)\n",
            "\n",
            "# ANNOTATE\n",
            "annotations, certainties = annotate(\n",
            "    list(df.index[df.label.isna()]),\n",
            "    options=list(labels['name']),\n",
            "    display_fn=lambda filename: display_audio(os.path.join(data_path, filename)))"
         ]
      },
      {
         "cell_type": "markdown",
         "metadata": {},
         "source": [
            "## Save labels"
         ]
      },
      {
         "cell_type": "code",
         "execution_count": null,
         "metadata": {},
         "outputs": [],
         "source": [
            "for file, label in annotations:\n",
            "    df.loc[file, \"label\"] = label\n",
            "\n",
            "for file, certainty in certainties:\n",
            "    df.loc[file, \"certainty\"] = certainty\n",
            "    \n",
            "df.to_csv(os.path.join(org_dir, csv_path))"
         ]
      }
   ],
   "metadata": {
      "kernelspec": {
         "display_name": "Python 3.9.12 ('base')",
         "language": "python",
         "name": "python3"
      },
      "language_info": {
         "codemirror_mode": {
            "name": "ipython",
            "version": 3
         },
         "file_extension": ".py",
         "mimetype": "text/x-python",
         "name": "python",
         "nbconvert_exporter": "python",
         "pygments_lexer": "ipython3",
         "version": "3.9.12"
      },
      "orig_nbformat": 4,
      "vscode": {
         "interpreter": {
            "hash": "f53b217d8430526303bffcd87b390d5c67e67390f11595101f60a03768747934"
         }
      }
   },
   "nbformat": 4,
   "nbformat_minor": 2
}
